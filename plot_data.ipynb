{
 "cells": [
  {
   "cell_type": "code",
   "execution_count": null,
   "metadata": {},
   "outputs": [],
   "source": [
    "import pandas as pd\n",
    "import numpy as np\n",
    "import matplotlib.pyplot as plt\n",
    "import seaborn as sns"
   ]
  },
  {
   "cell_type": "code",
   "execution_count": null,
   "metadata": {},
   "outputs": [],
   "source": [
    "# データの読み込み\n",
    "df = pd.read_csv('data/UNSW_NB15/UNSW_NB15_testing-set.csv')\n",
    "df.head()"
   ]
  },
  {
   "cell_type": "code",
   "execution_count": null,
   "metadata": {},
   "outputs": [],
   "source": [
    "# 各特徴量の分布を表示\n",
    "df.hist(figsize=(24, 24))\n",
    "plt.show()"
   ]
  },
  {
   "cell_type": "code",
   "execution_count": null,
   "metadata": {},
   "outputs": [],
   "source": [
    "# 数値の列だけを取得\n",
    "df_numeric = df.select_dtypes(include=[np.number])\n",
    "df_numeric.drop('id', axis=1, inplace=True)\n",
    "\n",
    "# 各特徴量の相関係数を表示\n",
    "plt.figure(figsize=(24, 24))\n",
    "sns.heatmap(df_numeric.corr(), annot=True, fmt='.2f')\n",
    "plt.show()"
   ]
  },
  {
   "cell_type": "code",
   "execution_count": null,
   "metadata": {},
   "outputs": [],
   "source": [
    "# レコード数が多いので、サンプリングする\n",
    "df_numeric_sample = df_numeric.sample(n=10000, random_state=42)\n",
    "sampled_indices = df_numeric_sample.index\n",
    "\n",
    "# t-sneで二次元にプロット\n",
    "from sklearn.manifold import TSNE\n",
    "tsne = TSNE(n_components=2, random_state=0)\n",
    "tsne_result = tsne.fit_transform(df_numeric)\n"
   ]
  },
  {
   "cell_type": "code",
   "execution_count": null,
   "metadata": {},
   "outputs": [],
   "source": [
    "tsne_result['attack_cat'] = df['attack_cat'].loc[sampled_indices]\n",
    "\n",
    "plt.figure(figsize=(12, 12))\n",
    "plt.title('t-SNE')\n",
    "plt.scatter(tsne_result[:, 0], tsne_result[:, 1], c=attack_cat)\n",
    "plt.colorbar(ticks=range(max(attack_labels)+1), label='attack')\n",
    "plt.show()"
   ]
  }
 ],
 "metadata": {
  "kernelspec": {
   "display_name": "myenv",
   "language": "python",
   "name": "python3"
  },
  "language_info": {
   "codemirror_mode": {
    "name": "ipython",
    "version": 3
   },
   "file_extension": ".py",
   "mimetype": "text/x-python",
   "name": "python",
   "nbconvert_exporter": "python",
   "pygments_lexer": "ipython3",
   "version": "3.10.4"
  }
 },
 "nbformat": 4,
 "nbformat_minor": 2
}
