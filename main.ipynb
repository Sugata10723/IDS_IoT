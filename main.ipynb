{
 "cells": [
  {
   "cell_type": "code",
   "execution_count": 1,
   "id": "d1fd5337",
   "metadata": {},
   "outputs": [],
   "source": [
    "from dataset_UNSW_NB15 import Dataset_UNSW_NB15\n",
    "from dataset_NSL_KDD import Dataset_NSL_KDD\n",
    "from dataset_IoT_NID import Dataset_IoT_NID\n",
    "import pickle\n"
   ]
  },
  {
   "cell_type": "code",
   "execution_count": 2,
   "id": "cf8d9a8b",
   "metadata": {},
   "outputs": [],
   "source": [
    "from experiment import Experiment\n",
    "save_dataset = False\n",
    "if save_dataset == True:\n",
    "    # データセットの取得\n",
    "    dataset_UNSW_NB15 = Dataset_UNSW_NB15().get_data()\n",
    "    dataset_NSL_KDD = Dataset_NSL_KDD().get_data()\n",
    "    dataset_IoT_NID = Dataset_IoT_NID().get_data()\n",
    "\n",
    "    # データセットをpickle形式で保存\n",
    "    with open('pickles/dataset_UNSW_NB15.pkl', 'wb') as f:\n",
    "        pickle.dump(dataset_UNSW_NB15, f)\n",
    "    with open('pickles/dataset_NSL_KDD.pkl', 'wb') as f:\n",
    "        pickle.dump(dataset_NSL_KDD, f)\n",
    "    with open('pickles/dataset_IoT_NID.pkl', 'wb') as f:\n",
    "        pickle.dump(dataset_IoT_NID, f)\n",
    "\n",
    "# データセットをpickle形式で読み込み\n",
    "with open ('pickles/dataset_UNSW_NB15.pkl', 'rb') as f:\n",
    "    dataset_UNSW_NB15 = pickle.load(f)\n",
    "with open ('pickles/dataset_NSL_KDD.pkl', 'rb') as f:\n",
    "    dataset_NSL_KDD = pickle.load(f)\n",
    "with open ('pickles/dataset_IoT_NID.pkl', 'rb') as f:\n",
    "    dataset_IoT_NID = pickle.load(f)\n",
    "\n",
    "# モデルの生成\n",
    "exp_UNSW = Experiment(dataset_UNSW_NB15)\n",
    "exp_NSL = Experiment(dataset_NSL_KDD)\n",
    "exp_IoT = Experiment(dataset_IoT_NID)\n",
    "\n",
    "# パラメータの設定\n",
    "model_params_noFS = {\n",
    "    'k': 500,\n",
    "    'c_attack': 0.2,\n",
    "    'c_normal': 0.1,\n",
    "    'n_estimators': 100,\n",
    "    'max_features': 1.0,\n",
    "    'max_samples': 1000, \n",
    "    'if_sampling' : False,\n",
    "}\n",
    "\n",
    "model_params_mean = {\n",
    "    'k': 500,\n",
    "    'n_ohe': 10,\n",
    "    'n_num': 10,\n",
    "    'c_attack': 0.1,\n",
    "    'c_normal': 0.1,\n",
    "    'max_features': 1.0,\n",
    "    'n_estimators': 100,\n",
    "    'max_samples': 500,\n",
    "}\n",
    "\n",
    "model_params_hybrid = {\n",
    "    'k': 500,\n",
    "    'n_fi': 10,\n",
    "    'n_pca': 10,\n",
    "    'c_attack': 0.1,\n",
    "    'c_normal': 0.1,\n",
    "    'max_features': 1.0,\n",
    "    'n_estimators': 100,\n",
    "    'max_samples': 500,\n",
    "}\n",
    "\n",
    "model_params_var = {\n",
    "    'k': 500,\n",
    "    'n_ohe': 10,\n",
    "    'n_num': 10,\n",
    "    'c_attack': 0.1,\n",
    "    'c_normal': 0.1,\n",
    "    'n_estimators': 100,\n",
    "    'max_features': 1.0,\n",
    "    'max_samples': 500,\n",
    "}\n",
    "\n",
    "model_params_cor = {\n",
    "    'k': 500,\n",
    "    'threshold': 0.5,\n",
    "    'c_attack': 0.2,\n",
    "    'c_normal': 0.1,\n",
    "    'n_estimators': 100,\n",
    "    'max_features': 1.0,\n",
    "    'max_samples': 100, \n",
    "    \n",
    "}"
   ]
  },
  {
   "cell_type": "code",
   "execution_count": null,
   "id": "36d70a83",
   "metadata": {},
   "outputs": [],
   "source": [
    "exp_UNSW.run_noFS(model_params_noFS, if_plot=True)"
   ]
  },
  {
   "cell_type": "code",
   "execution_count": null,
   "id": "8c9f209e",
   "metadata": {},
   "outputs": [],
   "source": [
    "exp_UNSW.run_hybrid(model_params_hybrid, if_plot=True)"
   ]
  },
  {
   "cell_type": "code",
   "execution_count": null,
   "id": "5d04cec0",
   "metadata": {},
   "outputs": [],
   "source": [
    "exp_UNSW.run_mean(model_params_mean, if_plot=True)"
   ]
  },
  {
   "cell_type": "code",
   "execution_count": null,
   "id": "f5ca60f8",
   "metadata": {},
   "outputs": [],
   "source": [
    "exp_UNSW.run_var(model_params_var, if_plot=True)"
   ]
  },
  {
   "cell_type": "code",
   "execution_count": 3,
   "id": "57cc8261",
   "metadata": {},
   "outputs": [
    {
     "name": "stderr",
     "output_type": "stream",
     "text": [
      "/Users/ham/codes/IDS_IoT/myenv/lib/python3.10/site-packages/sklearn/ensemble/_iforest.py:307: UserWarning: max_samples (1000) is greater than the total number of samples (500). max_samples will be set to n_samples for estimation.\n",
      "  warn(\n",
      "/Users/ham/codes/IDS_IoT/myenv/lib/python3.10/site-packages/sklearn/ensemble/_iforest.py:307: UserWarning: max_samples (1000) is greater than the total number of samples (500). max_samples will be set to n_samples for estimation.\n",
      "  warn(\n"
     ]
    },
    {
     "ename": "ValueError",
     "evalue": "Expected 2D array, got scalar array instead:\narray=nan.\nReshape your data either using array.reshape(-1, 1) if your data has a single feature or array.reshape(1, -1) if it contains a single sample.",
     "output_type": "error",
     "traceback": [
      "\u001b[0;31m---------------------------------------------------------------------------\u001b[0m",
      "\u001b[0;31mValueError\u001b[0m                                Traceback (most recent call last)",
      "Cell \u001b[0;32mIn[3], line 1\u001b[0m\n\u001b[0;32m----> 1\u001b[0m \u001b[43mexp_UNSW\u001b[49m\u001b[38;5;241;43m.\u001b[39;49m\u001b[43mrun_cor\u001b[49m\u001b[43m(\u001b[49m\u001b[43mmodel_params_cor\u001b[49m\u001b[43m,\u001b[49m\u001b[43m \u001b[49m\u001b[43mif_plot\u001b[49m\u001b[38;5;241;43m=\u001b[39;49m\u001b[38;5;28;43;01mTrue\u001b[39;49;00m\u001b[43m)\u001b[49m\n",
      "File \u001b[0;32m~/codes/IDS_IoT/experiment.py:93\u001b[0m, in \u001b[0;36mExperiment.run_cor\u001b[0;34m(self, model_params, if_plot)\u001b[0m\n\u001b[1;32m     91\u001b[0m \u001b[38;5;28mself\u001b[39m\u001b[38;5;241m.\u001b[39mmodel \u001b[38;5;241m=\u001b[39m AnomalyDetector_cor(model_params, \u001b[38;5;28mself\u001b[39m\u001b[38;5;241m.\u001b[39mconfig[\u001b[38;5;124m'\u001b[39m\u001b[38;5;124mcategorical_columns\u001b[39m\u001b[38;5;124m'\u001b[39m])\n\u001b[1;32m     92\u001b[0m \u001b[38;5;28mself\u001b[39m\u001b[38;5;241m.\u001b[39mfit()\n\u001b[0;32m---> 93\u001b[0m \u001b[38;5;28;43mself\u001b[39;49m\u001b[38;5;241;43m.\u001b[39;49m\u001b[43mevaluate\u001b[49m\u001b[43m(\u001b[49m\u001b[43m)\u001b[49m\n\u001b[1;32m     94\u001b[0m \u001b[38;5;28;01mif\u001b[39;00m if_plot:\n\u001b[1;32m     95\u001b[0m     \u001b[38;5;28mself\u001b[39m\u001b[38;5;241m.\u001b[39mprint_results(\u001b[38;5;124m\"\u001b[39m\u001b[38;5;124mCorrelation\u001b[39m\u001b[38;5;124m\"\u001b[39m)\n",
      "File \u001b[0;32m~/codes/IDS_IoT/experiment.py:38\u001b[0m, in \u001b[0;36mExperiment.evaluate\u001b[0;34m(self)\u001b[0m\n\u001b[1;32m     36\u001b[0m \u001b[38;5;28;01mdef\u001b[39;00m \u001b[38;5;21mevaluate\u001b[39m(\u001b[38;5;28mself\u001b[39m):\n\u001b[1;32m     37\u001b[0m     start_time \u001b[38;5;241m=\u001b[39m time\u001b[38;5;241m.\u001b[39mperf_counter()\n\u001b[0;32m---> 38\u001b[0m     \u001b[38;5;28mself\u001b[39m\u001b[38;5;241m.\u001b[39mprediction \u001b[38;5;241m=\u001b[39m \u001b[38;5;28;43mself\u001b[39;49m\u001b[38;5;241;43m.\u001b[39;49m\u001b[43mmodel\u001b[49m\u001b[38;5;241;43m.\u001b[39;49m\u001b[43mpredict\u001b[49m\u001b[43m(\u001b[49m\u001b[38;5;28;43mself\u001b[39;49m\u001b[38;5;241;43m.\u001b[39;49m\u001b[43mX_test\u001b[49m\u001b[43m)\u001b[49m \u001b[38;5;66;03m# X_test: Panda DataFrame\u001b[39;00m\n\u001b[1;32m     39\u001b[0m     evaluate_time \u001b[38;5;241m=\u001b[39m time\u001b[38;5;241m.\u001b[39mperf_counter() \u001b[38;5;241m-\u001b[39m start_time\n\u001b[1;32m     41\u001b[0m     \u001b[38;5;28mself\u001b[39m\u001b[38;5;241m.\u001b[39maccuracy \u001b[38;5;241m=\u001b[39m accuracy_score(\u001b[38;5;28mself\u001b[39m\u001b[38;5;241m.\u001b[39my_test, \u001b[38;5;28mself\u001b[39m\u001b[38;5;241m.\u001b[39mprediction)\n",
      "File \u001b[0;32m~/codes/IDS_IoT/model_cor.py:111\u001b[0m, in \u001b[0;36mAnomalyDetector_cor.predict\u001b[0;34m(self, X)\u001b[0m\n\u001b[1;32m    108\u001b[0m X_processed \u001b[38;5;241m=\u001b[39m np\u001b[38;5;241m.\u001b[39mconcatenate([X_num, X_ohe], axis\u001b[38;5;241m=\u001b[39m\u001b[38;5;241m1\u001b[39m)\n\u001b[1;32m    109\u001b[0m X_processed \u001b[38;5;241m=\u001b[39m X_processed[:, \u001b[38;5;28mself\u001b[39m\u001b[38;5;241m.\u001b[39mselected_features]\n\u001b[0;32m--> 111\u001b[0m attack_prd \u001b[38;5;241m=\u001b[39m \u001b[38;5;28;43mself\u001b[39;49m\u001b[38;5;241;43m.\u001b[39;49m\u001b[43miforest_attack\u001b[49m\u001b[38;5;241;43m.\u001b[39;49m\u001b[43mpredict\u001b[49m\u001b[43m(\u001b[49m\u001b[38;5;28;43mself\u001b[39;49m\u001b[38;5;241;43m.\u001b[39;49m\u001b[43mX_processed\u001b[49m\u001b[43m)\u001b[49m\n\u001b[1;32m    112\u001b[0m attack_prd \u001b[38;5;241m=\u001b[39m [\u001b[38;5;241m1\u001b[39m \u001b[38;5;28;01mif\u001b[39;00m result \u001b[38;5;241m==\u001b[39m \u001b[38;5;241m1\u001b[39m \u001b[38;5;28;01melse\u001b[39;00m \u001b[38;5;241m0\u001b[39m \u001b[38;5;28;01mfor\u001b[39;00m result \u001b[38;5;129;01min\u001b[39;00m attack_prd]   \n\u001b[1;32m    113\u001b[0m \u001b[38;5;28mself\u001b[39m\u001b[38;5;241m.\u001b[39mattack_prd \u001b[38;5;241m=\u001b[39m attack_prd\n",
      "File \u001b[0;32m~/codes/IDS_IoT/myenv/lib/python3.10/site-packages/sklearn/ensemble/_iforest.py:371\u001b[0m, in \u001b[0;36mIsolationForest.predict\u001b[0;34m(self, X)\u001b[0m\n\u001b[1;32m    354\u001b[0m \u001b[38;5;250m\u001b[39m\u001b[38;5;124;03m\"\"\"\u001b[39;00m\n\u001b[1;32m    355\u001b[0m \u001b[38;5;124;03mPredict if a particular sample is an outlier or not.\u001b[39;00m\n\u001b[1;32m    356\u001b[0m \n\u001b[0;32m   (...)\u001b[0m\n\u001b[1;32m    368\u001b[0m \u001b[38;5;124;03m    be considered as an inlier according to the fitted model.\u001b[39;00m\n\u001b[1;32m    369\u001b[0m \u001b[38;5;124;03m\"\"\"\u001b[39;00m\n\u001b[1;32m    370\u001b[0m check_is_fitted(\u001b[38;5;28mself\u001b[39m)\n\u001b[0;32m--> 371\u001b[0m decision_func \u001b[38;5;241m=\u001b[39m \u001b[38;5;28;43mself\u001b[39;49m\u001b[38;5;241;43m.\u001b[39;49m\u001b[43mdecision_function\u001b[49m\u001b[43m(\u001b[49m\u001b[43mX\u001b[49m\u001b[43m)\u001b[49m\n\u001b[1;32m    372\u001b[0m is_inlier \u001b[38;5;241m=\u001b[39m np\u001b[38;5;241m.\u001b[39mones_like(decision_func, dtype\u001b[38;5;241m=\u001b[39m\u001b[38;5;28mint\u001b[39m)\n\u001b[1;32m    373\u001b[0m is_inlier[decision_func \u001b[38;5;241m<\u001b[39m \u001b[38;5;241m0\u001b[39m] \u001b[38;5;241m=\u001b[39m \u001b[38;5;241m-\u001b[39m\u001b[38;5;241m1\u001b[39m\n",
      "File \u001b[0;32m~/codes/IDS_IoT/myenv/lib/python3.10/site-packages/sklearn/ensemble/_iforest.py:406\u001b[0m, in \u001b[0;36mIsolationForest.decision_function\u001b[0;34m(self, X)\u001b[0m\n\u001b[1;32m    377\u001b[0m \u001b[38;5;250m\u001b[39m\u001b[38;5;124;03m\"\"\"\u001b[39;00m\n\u001b[1;32m    378\u001b[0m \u001b[38;5;124;03mAverage anomaly score of X of the base classifiers.\u001b[39;00m\n\u001b[1;32m    379\u001b[0m \n\u001b[0;32m   (...)\u001b[0m\n\u001b[1;32m    401\u001b[0m \u001b[38;5;124;03m    positive scores represent inliers.\u001b[39;00m\n\u001b[1;32m    402\u001b[0m \u001b[38;5;124;03m\"\"\"\u001b[39;00m\n\u001b[1;32m    403\u001b[0m \u001b[38;5;66;03m# We subtract self.offset_ to make 0 be the threshold value for being\u001b[39;00m\n\u001b[1;32m    404\u001b[0m \u001b[38;5;66;03m# an outlier:\u001b[39;00m\n\u001b[0;32m--> 406\u001b[0m \u001b[38;5;28;01mreturn\u001b[39;00m \u001b[38;5;28;43mself\u001b[39;49m\u001b[38;5;241;43m.\u001b[39;49m\u001b[43mscore_samples\u001b[49m\u001b[43m(\u001b[49m\u001b[43mX\u001b[49m\u001b[43m)\u001b[49m \u001b[38;5;241m-\u001b[39m \u001b[38;5;28mself\u001b[39m\u001b[38;5;241m.\u001b[39moffset_\n",
      "File \u001b[0;32m~/codes/IDS_IoT/myenv/lib/python3.10/site-packages/sklearn/ensemble/_iforest.py:433\u001b[0m, in \u001b[0;36mIsolationForest.score_samples\u001b[0;34m(self, X)\u001b[0m\n\u001b[1;32m    409\u001b[0m \u001b[38;5;250m\u001b[39m\u001b[38;5;124;03m\"\"\"\u001b[39;00m\n\u001b[1;32m    410\u001b[0m \u001b[38;5;124;03mOpposite of the anomaly score defined in the original paper.\u001b[39;00m\n\u001b[1;32m    411\u001b[0m \n\u001b[0;32m   (...)\u001b[0m\n\u001b[1;32m    430\u001b[0m \u001b[38;5;124;03m    The lower, the more abnormal.\u001b[39;00m\n\u001b[1;32m    431\u001b[0m \u001b[38;5;124;03m\"\"\"\u001b[39;00m\n\u001b[1;32m    432\u001b[0m \u001b[38;5;66;03m# Check data\u001b[39;00m\n\u001b[0;32m--> 433\u001b[0m X \u001b[38;5;241m=\u001b[39m \u001b[38;5;28;43mself\u001b[39;49m\u001b[38;5;241;43m.\u001b[39;49m\u001b[43m_validate_data\u001b[49m\u001b[43m(\u001b[49m\u001b[43mX\u001b[49m\u001b[43m,\u001b[49m\u001b[43m \u001b[49m\u001b[43maccept_sparse\u001b[49m\u001b[38;5;241;43m=\u001b[39;49m\u001b[38;5;124;43m\"\u001b[39;49m\u001b[38;5;124;43mcsr\u001b[39;49m\u001b[38;5;124;43m\"\u001b[39;49m\u001b[43m,\u001b[49m\u001b[43m \u001b[49m\u001b[43mdtype\u001b[49m\u001b[38;5;241;43m=\u001b[39;49m\u001b[43mnp\u001b[49m\u001b[38;5;241;43m.\u001b[39;49m\u001b[43mfloat32\u001b[49m\u001b[43m,\u001b[49m\u001b[43m \u001b[49m\u001b[43mreset\u001b[49m\u001b[38;5;241;43m=\u001b[39;49m\u001b[38;5;28;43;01mFalse\u001b[39;49;00m\u001b[43m)\u001b[49m\n\u001b[1;32m    435\u001b[0m \u001b[38;5;28;01mreturn\u001b[39;00m \u001b[38;5;28mself\u001b[39m\u001b[38;5;241m.\u001b[39m_score_samples(X)\n",
      "File \u001b[0;32m~/codes/IDS_IoT/myenv/lib/python3.10/site-packages/sklearn/base.py:605\u001b[0m, in \u001b[0;36mBaseEstimator._validate_data\u001b[0;34m(self, X, y, reset, validate_separately, cast_to_ndarray, **check_params)\u001b[0m\n\u001b[1;32m    603\u001b[0m         out \u001b[38;5;241m=\u001b[39m X, y\n\u001b[1;32m    604\u001b[0m \u001b[38;5;28;01melif\u001b[39;00m \u001b[38;5;129;01mnot\u001b[39;00m no_val_X \u001b[38;5;129;01mand\u001b[39;00m no_val_y:\n\u001b[0;32m--> 605\u001b[0m     out \u001b[38;5;241m=\u001b[39m \u001b[43mcheck_array\u001b[49m\u001b[43m(\u001b[49m\u001b[43mX\u001b[49m\u001b[43m,\u001b[49m\u001b[43m \u001b[49m\u001b[43minput_name\u001b[49m\u001b[38;5;241;43m=\u001b[39;49m\u001b[38;5;124;43m\"\u001b[39;49m\u001b[38;5;124;43mX\u001b[39;49m\u001b[38;5;124;43m\"\u001b[39;49m\u001b[43m,\u001b[49m\u001b[43m \u001b[49m\u001b[38;5;241;43m*\u001b[39;49m\u001b[38;5;241;43m*\u001b[39;49m\u001b[43mcheck_params\u001b[49m\u001b[43m)\u001b[49m\n\u001b[1;32m    606\u001b[0m \u001b[38;5;28;01melif\u001b[39;00m no_val_X \u001b[38;5;129;01mand\u001b[39;00m \u001b[38;5;129;01mnot\u001b[39;00m no_val_y:\n\u001b[1;32m    607\u001b[0m     out \u001b[38;5;241m=\u001b[39m _check_y(y, \u001b[38;5;241m*\u001b[39m\u001b[38;5;241m*\u001b[39mcheck_params)\n",
      "File \u001b[0;32m~/codes/IDS_IoT/myenv/lib/python3.10/site-packages/sklearn/utils/validation.py:930\u001b[0m, in \u001b[0;36mcheck_array\u001b[0;34m(array, accept_sparse, accept_large_sparse, dtype, order, copy, force_all_finite, ensure_2d, allow_nd, ensure_min_samples, ensure_min_features, estimator, input_name)\u001b[0m\n\u001b[1;32m    927\u001b[0m \u001b[38;5;28;01mif\u001b[39;00m ensure_2d:\n\u001b[1;32m    928\u001b[0m     \u001b[38;5;66;03m# If input is scalar raise error\u001b[39;00m\n\u001b[1;32m    929\u001b[0m     \u001b[38;5;28;01mif\u001b[39;00m array\u001b[38;5;241m.\u001b[39mndim \u001b[38;5;241m==\u001b[39m \u001b[38;5;241m0\u001b[39m:\n\u001b[0;32m--> 930\u001b[0m         \u001b[38;5;28;01mraise\u001b[39;00m \u001b[38;5;167;01mValueError\u001b[39;00m(\n\u001b[1;32m    931\u001b[0m             \u001b[38;5;124m\"\u001b[39m\u001b[38;5;124mExpected 2D array, got scalar array instead:\u001b[39m\u001b[38;5;130;01m\\n\u001b[39;00m\u001b[38;5;124marray=\u001b[39m\u001b[38;5;132;01m{}\u001b[39;00m\u001b[38;5;124m.\u001b[39m\u001b[38;5;130;01m\\n\u001b[39;00m\u001b[38;5;124m\"\u001b[39m\n\u001b[1;32m    932\u001b[0m             \u001b[38;5;124m\"\u001b[39m\u001b[38;5;124mReshape your data either using array.reshape(-1, 1) if \u001b[39m\u001b[38;5;124m\"\u001b[39m\n\u001b[1;32m    933\u001b[0m             \u001b[38;5;124m\"\u001b[39m\u001b[38;5;124myour data has a single feature or array.reshape(1, -1) \u001b[39m\u001b[38;5;124m\"\u001b[39m\n\u001b[1;32m    934\u001b[0m             \u001b[38;5;124m\"\u001b[39m\u001b[38;5;124mif it contains a single sample.\u001b[39m\u001b[38;5;124m\"\u001b[39m\u001b[38;5;241m.\u001b[39mformat(array)\n\u001b[1;32m    935\u001b[0m         )\n\u001b[1;32m    936\u001b[0m     \u001b[38;5;66;03m# If input is 1D raise error\u001b[39;00m\n\u001b[1;32m    937\u001b[0m     \u001b[38;5;28;01mif\u001b[39;00m array\u001b[38;5;241m.\u001b[39mndim \u001b[38;5;241m==\u001b[39m \u001b[38;5;241m1\u001b[39m:\n",
      "\u001b[0;31mValueError\u001b[0m: Expected 2D array, got scalar array instead:\narray=nan.\nReshape your data either using array.reshape(-1, 1) if your data has a single feature or array.reshape(1, -1) if it contains a single sample."
     ]
    }
   ],
   "source": [
    "exp_UNSW.run_cor(model_params_cor, if_plot=True)"
   ]
  },
  {
   "cell_type": "code",
   "execution_count": null,
   "id": "d9126b72",
   "metadata": {},
   "outputs": [],
   "source": [
    "exp_NSL.run_noFS(model_params_noFS, if_plot=True)"
   ]
  },
  {
   "cell_type": "code",
   "execution_count": null,
   "id": "c3aad88c",
   "metadata": {},
   "outputs": [],
   "source": [
    "exp_NSL.run_hybrid(model_params_hybrid, if_plot=True)"
   ]
  },
  {
   "cell_type": "code",
   "execution_count": null,
   "id": "8cb00d69",
   "metadata": {},
   "outputs": [],
   "source": [
    "exp_NSL.run_mean(model_params_mean, if_plot=True)"
   ]
  },
  {
   "cell_type": "code",
   "execution_count": null,
   "id": "679b955f",
   "metadata": {},
   "outputs": [],
   "source": [
    "exp_NSL.run_var(model_params_var, if_plot=True)"
   ]
  },
  {
   "cell_type": "code",
   "execution_count": null,
   "id": "df4db38d",
   "metadata": {},
   "outputs": [],
   "source": [
    "exp_IoT.run_noFS(model_params_noFS, if_plot=True)"
   ]
  },
  {
   "cell_type": "code",
   "execution_count": null,
   "id": "2fdb6007",
   "metadata": {},
   "outputs": [],
   "source": [
    "exp_IoT.run_hybrid(model_params_hybrid, if_plot=True)"
   ]
  },
  {
   "cell_type": "code",
   "execution_count": null,
   "id": "acb33703",
   "metadata": {},
   "outputs": [],
   "source": [
    "exp_IoT.run_mean(model_params_mean, if_plot=True)"
   ]
  },
  {
   "cell_type": "code",
   "execution_count": null,
   "id": "6d3082df",
   "metadata": {},
   "outputs": [],
   "source": [
    "exp_IoT.run_var(model_params_var, if_plot=True)"
   ]
  }
 ],
 "metadata": {
  "jupytext": {
   "cell_metadata_filter": "-all",
   "main_language": "python",
   "notebook_metadata_filter": "-all"
  },
  "kernelspec": {
   "display_name": "Python 3 (ipykernel)",
   "language": "python",
   "name": "python3"
  },
  "language_info": {
   "codemirror_mode": {
    "name": "ipython",
    "version": 3
   },
   "file_extension": ".py",
   "mimetype": "text/x-python",
   "name": "python",
   "nbconvert_exporter": "python",
   "pygments_lexer": "ipython3",
   "version": "3.10.4"
  }
 },
 "nbformat": 4,
 "nbformat_minor": 5
}
