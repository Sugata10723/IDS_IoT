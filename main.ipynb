{
 "cells": [
  {
   "cell_type": "code",
   "execution_count": 1,
   "id": "d1fd5337",
   "metadata": {},
   "outputs": [],
   "source": [
    "from dataset_UNSW_NB15 import Dataset_UNSW_NB15\n",
    "from dataset_UNSW_NB15_1 import Dataset_UNSW_NB15_1\n",
    "from dataset_NSL_KDD import Dataset_NSL_KDD\n",
    "from dataset_IoT_NID import Dataset_IoT_NID\n",
    "from experiment import Experiment\n",
    "import matplotlib.pyplot as plt\n",
    "import pandas as pd\n",
    "\n",
    "pd.set_option('display.max_columns', None)\n",
    "pd.set_option('display.precision', 2)   \n"
   ]
  },
  {
   "cell_type": "code",
   "execution_count": 2,
   "id": "0cf717d0",
   "metadata": {},
   "outputs": [
    {
     "name": "stdout",
     "output_type": "stream",
     "text": [
      "X_ohe shape is: 161\n",
      "X_num shape is: 38\n",
      "------------------------------\n",
      "Feature selection: noFS k:500\n",
      "Accuracy: 0.73\n",
      "Attack Subsystem Accuracy: 0.73\n",
      "Normal Subsystem Accuracy: 0.52\n",
      "F1 Score: 0.74\n",
      "F1 Score Attack: 0.73\n",
      "F1 Score Normal: 0.42\n",
      "Fit Time: 22.74s\n",
      "Evaluate Time for Total Data: 1.22s\n",
      "------------------------------\n"
     ]
    }
   ],
   "source": [
    "dataset = Dataset_UNSW_NB15()\n",
    "X_train, X_test, y_train, y_test, config = dataset.get_data()\n",
    "exp = Experiment(X_train, X_test, y_train, y_test, config)\n",
    "exp.run_noFS(k=500, c_attack=0.2, c_normal=0.001)\n",
    "exp.run_pca(k=500, n_pca=30, c_attack=0.2, c_normal=0.001)\n",
    "exp.run_fi(k=500, n_fi=80, c_attack=0.2, c_normal=0.001)\n",
    "exp.run_hybrid(k=500, n_fi=20, n_pca=20, c_attack=0.2, c_normal=0.001)\n",
    "exp.run_var(k=500, c_attack=0.2, c_normal=0.001)"
   ]
  },
  {
   "cell_type": "code",
   "execution_count": null,
   "id": "675589d8",
   "metadata": {},
   "outputs": [],
   "source": [
    "dataset = Dataset_NSL_KDD()\n",
    "X_train, X_test, y_train, y_test, config = dataset.get_data()\n",
    "exp = Experiment(X_train, X_test, y_train, y_test, config)\n",
    "exp.run_noFS(k=500, c_attack=0.1, c_normal=0.01)\n",
    "exp.run_pca(k=500, n_pca=30, c_attack=0.1, c_normal=0.01)\n",
    "exp.run_fi(k=500, n_fi=40, c_attack=0.1, c_normal=0.01)\n",
    "exp.run_hybrid(k=500, n_fi=20, n_pca=20, c_attack=0.1, c_normal=0.01)\n",
    "exp.run_var(k=500, c_attack=0.1, c_normal=0.01)"
   ]
  },
  {
   "cell_type": "code",
   "execution_count": null,
   "id": "9dce6d91",
   "metadata": {},
   "outputs": [],
   "source": [
    "dataset = Dataset_IoT_NID()\n",
    "X_train, X_test, y_train, y_test, config = dataset.get_data()\n",
    "exp = Experiment(X_train, X_test, y_train, y_test, config)\n",
    "exp.run_noFS(k=500)\n",
    "exp.run_pca(k=500, n_pca=30)\n",
    "exp.run_fi(k=500, n_fi=40)\n",
    "exp.run_hybrid(k=500, n_fi=20, n_pca=20)\n",
    "exp.run_var(k=500)"
   ]
  },
  {
   "cell_type": "code",
   "execution_count": null,
   "id": "0f679f63",
   "metadata": {},
   "outputs": [],
   "source": [
    "dataset = Dataset_UNSW_NB15()\n",
    "X_train, X_test, y_train, y_test, config = dataset.get_data()\n",
    "exp = Experiment(X_train, X_test, y_train, y_test, config)\n",
    "import numpy as np\n",
    "import seaborn as sns\n",
    "import matplotlib.pyplot as plt\n",
    "\n",
    "# c_attackとc_normalを0.0001から0.5まで10分割\n",
    "c_values = [0.000001, 0.00001, 0.0001, 0.001, 0.01, 0.1, 0.2, 0.3, 0.4, 0.5]\n",
    "\n",
    "# 結果を格納するための配列を準備\n",
    "results = np.zeros((len(c_values), len(c_values)))\n",
    "\n",
    "# 各c_valueについて実験を行う\n",
    "for i, c_attack in enumerate(c_values):\n",
    "    for j, c_normal in enumerate(c_values):\n",
    "        exp.run_noFS(k=500, c_attack=c_attack, c_normal=c_normal)\n",
    "        results[i, j] = exp.accuracy\n",
    "\n",
    "# ヒートマップを表示\n",
    "plt.figure(figsize=(10, 8))\n",
    "sns.heatmap(np.flipud(results), xticklabels=c_values, yticklabels=np.flipud(c_values), annot=True, vmax=1)\n",
    "plt.xlabel('c_normal')\n",
    "plt.ylabel('c_attack')\n",
    "plt.title('Heatmap of experiment results')\n",
    "plt.show()\n"
   ]
  },
  {
   "cell_type": "code",
   "execution_count": null,
   "id": "3a065986",
   "metadata": {},
   "outputs": [],
   "source": [
    "dataset = Dataset_NSL_KDD()\n",
    "X_train, X_test, y_train, y_test, config = dataset.get_data()\n",
    "exp = Experiment(X_train, X_test, y_train, y_test, config)\n",
    "import numpy as np\n",
    "import seaborn as sns\n",
    "import matplotlib.pyplot as plt\n",
    "\n",
    "# c_attackとc_normalを0.0001から0.5まで10分割\n",
    "c_values = np.linspace(0.01, 0.1, 5)\n",
    "\n",
    "# 結果を格納するための配列を準備\n",
    "results = np.zeros((len(c_values), len(c_values)))\n",
    "\n",
    "# 各c_valueについて実験を行う\n",
    "for i, c_attack in enumerate(c_values):\n",
    "    for j, c_normal in enumerate(c_values):\n",
    "        exp.run_noFS(k=500, c_attack=c_attack, c_normal=c_normal)\n",
    "        results[i, j] = exp.accuracy\n",
    "\n",
    "# ヒートマップを表示\n",
    "plt.figure(figsize=(10, 8))\n",
    "sns.heatmap(np.flipud(results), xticklabels=c_values, yticklabels=np.flipud(c_values), annot=True, vmax=1)\n",
    "plt.xlabel('c_normal')\n",
    "plt.ylabel('c_attack')\n",
    "plt.title('Heatmap of experiment results')\n",
    "plt.show()"
   ]
  },
  {
   "cell_type": "code",
   "execution_count": null,
   "id": "d15ec3a7",
   "metadata": {},
   "outputs": [],
   "source": [
    "dataset = Dataset_IoT_NID()\n",
    "X_train, X_test, y_train, y_test, config = dataset.get_data()\n",
    "exp = Experiment(X_train, X_test, y_train, y_test, config)\n",
    "import numpy as np\n",
    "import seaborn as sns\n",
    "import matplotlib.pyplot as plt\n",
    "\n",
    "# c_attackとc_normalを0.0001から0.5まで10分割\n",
    "c_values = [0.000001, 0.00001, 0.0001, 0.001, 0.01, 0.1, 0.2, 0.3, 0.4, 0.5]\n",
    "\n",
    "# 結果を格納するための配列を準備\n",
    "results = np.zeros((len(c_values), len(c_values)))\n",
    "\n",
    "# 各c_valueについて実験を行う\n",
    "for i, c_attack in enumerate(c_values):\n",
    "    for j, c_normal in enumerate(c_values):\n",
    "        exp.run_noFS(k=500, c_attack=c_attack, c_normal=c_normal)\n",
    "        results[i, j] = exp.accuracy\n",
    "\n",
    "# ヒートマップを表示\n",
    "plt.figure(figsize=(10, 8))\n",
    "sns.heatmap(np.flipud(results), xticklabels=c_values, yticklabels=np.flipud(c_values), annot=True, vmax=1)\n",
    "plt.xlabel('c_normal')\n",
    "plt.ylabel('c_attack')\n",
    "plt.title('Heatmap of experiment results')\n",
    "plt.show()"
   ]
  }
 ],
 "metadata": {
  "jupytext": {
   "cell_metadata_filter": "-all",
   "main_language": "python",
   "notebook_metadata_filter": "-all"
  },
  "kernelspec": {
   "display_name": "Python 3 (ipykernel)",
   "language": "python",
   "name": "python3"
  },
  "language_info": {
   "codemirror_mode": {
    "name": "ipython",
    "version": 3
   },
   "file_extension": ".py",
   "mimetype": "text/x-python",
   "name": "python",
   "nbconvert_exporter": "python",
   "pygments_lexer": "ipython3",
   "version": "3.10.4"
  }
 },
 "nbformat": 4,
 "nbformat_minor": 5
}
