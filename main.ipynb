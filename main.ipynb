{
 "cells": [
  {
   "cell_type": "code",
   "execution_count": null,
   "id": "d1fd5337",
   "metadata": {},
   "outputs": [],
   "source": [
    "from dataset_UNSW_NB15 import Dataset_UNSW_NB15\n",
    "from dataset_NSL_KDD import Dataset_NSL_KDD\n",
    "from dataset_IoT_NID import Dataset_IoT_NID\n",
    "import pickle"
   ]
  },
  {
   "cell_type": "code",
   "execution_count": null,
   "id": "cf8d9a8b",
   "metadata": {},
   "outputs": [],
   "source": [
    "from experiment import Experiment\n",
    "save_dataset = False\n",
    "if save_dataset == True:\n",
    "    # データセットの取得\n",
    "    dataset_UNSW_NB15 = Dataset_UNSW_NB15().get_data()\n",
    "    dataset_NSL_KDD = Dataset_NSL_KDD().get_data()\n",
    "    dataset_IoT_NID = Dataset_IoT_NID().get_data()\n",
    "\n",
    "    # データセットをpickle形式で保存\n",
    "    with open('pickles/dataset_UNSW_NB15.pkl', 'wb') as f:\n",
    "        pickle.dump(dataset_UNSW_NB15, f)\n",
    "    with open('pickles/dataset_NSL_KDD.pkl', 'wb') as f:\n",
    "        pickle.dump(dataset_NSL_KDD, f)\n",
    "    with open('pickles/dataset_IoT_NID.pkl', 'wb') as f:\n",
    "        pickle.dump(dataset_IoT_NID, f)\n",
    "\n",
    "# データセットをpickle形式で読み込み\n",
    "with open ('pickles/dataset_UNSW_NB15.pkl', 'rb') as f:\n",
    "    dataset_UNSW_NB15 = pickle.load(f)\n",
    "with open ('pickles/dataset_NSL_KDD.pkl', 'rb') as f:\n",
    "    dataset_NSL_KDD = pickle.load(f)\n",
    "with open ('pickles/dataset_IoT_NID.pkl', 'rb') as f:\n",
    "    dataset_IoT_NID = pickle.load(f)\n",
    "\n",
    "# モデルの生成\n",
    "exp_UNSW = Experiment(dataset_UNSW_NB15)\n",
    "exp_NSL = Experiment(dataset_NSL_KDD)\n",
    "exp_IoT = Experiment(dataset_IoT_NID)\n",
    "\n",
    "# パラメータの設定\n",
    "model_params_noFS = {\n",
    "    'k': 500,\n",
    "    'c_attack': 0.2,\n",
    "    'c_normal': 0.1,\n",
    "    'n_estimators': 100,\n",
    "    'max_features': 1.0,\n",
    "    'max_samples': 1000, \n",
    "    'if_sampling' : False,\n",
    "}\n",
    "\n",
    "model_params_mean = {\n",
    "    'k': 500,\n",
    "    'n_ohe': 10,\n",
    "    'n_num': 10,\n",
    "    'c_attack': 0.1,\n",
    "    'c_normal': 0.1,\n",
    "    'max_features': 1.0,\n",
    "    'n_estimators': 100,\n",
    "    'max_samples': 500,\n",
    "}\n",
    "\n",
    "model_params_hybrid = {\n",
    "    'k': 500,\n",
    "    'n_fi': 10,\n",
    "    'n_pca': 10,\n",
    "    'c_attack': 0.1,\n",
    "    'c_normal': 0.1,\n",
    "    'max_features': 1.0,\n",
    "    'n_estimators': 100,\n",
    "    'max_samples': 500,\n",
    "}\n",
    "\n",
    "model_params_var = {\n",
    "    'k': 500,\n",
    "    'n_ohe': 10,\n",
    "    'n_num': 10,\n",
    "    'c_attack': 0.1,\n",
    "    'c_normal': 0.1,\n",
    "    'n_estimators': 100,\n",
    "    'max_features': 1.0,\n",
    "    'max_samples': 500,\n",
    "}\n",
    "\n",
    "model_params_cor = {\n",
    "    'k': 500,\n",
    "    'threshold': 0.5,\n",
    "    'c_attack': 0.2,\n",
    "    'c_normal': 0.1,\n",
    "    'n_estimators': 100,\n",
    "    'max_features': 1.0,\n",
    "    'max_samples': 100, \n",
    "}"
   ]
  },
  {
   "cell_type": "code",
   "execution_count": null,
   "id": "36d70a83",
   "metadata": {},
   "outputs": [],
   "source": [
    "exp_UNSW.run_noFS(model_params_noFS, if_plot=True)"
   ]
  },
  {
   "cell_type": "code",
   "execution_count": null,
   "id": "8c9f209e",
   "metadata": {},
   "outputs": [],
   "source": [
    "exp_UNSW.run_hybrid(model_params_hybrid, if_plot=True)"
   ]
  },
  {
   "cell_type": "code",
   "execution_count": null,
   "id": "5d04cec0",
   "metadata": {},
   "outputs": [],
   "source": [
    "exp_UNSW.run_mean(model_params_mean, if_plot=True)"
   ]
  },
  {
   "cell_type": "code",
   "execution_count": null,
   "id": "f5ca60f8",
   "metadata": {},
   "outputs": [],
   "source": [
    "exp_UNSW.run_var(model_params_var, if_plot=True)"
   ]
  },
  {
   "cell_type": "code",
   "execution_count": null,
   "id": "57cc8261",
   "metadata": {},
   "outputs": [],
   "source": [
    "exp_UNSW.run_cor(model_params_cor, if_plot=True)"
   ]
  },
  {
   "cell_type": "code",
   "execution_count": null,
   "id": "d9126b72",
   "metadata": {},
   "outputs": [],
   "source": [
    "exp_NSL.run_noFS(model_params_noFS, if_plot=True)"
   ]
  },
  {
   "cell_type": "code",
   "execution_count": null,
   "id": "c3aad88c",
   "metadata": {},
   "outputs": [],
   "source": [
    "exp_NSL.run_hybrid(model_params_hybrid, if_plot=True)"
   ]
  },
  {
   "cell_type": "code",
   "execution_count": null,
   "id": "8cb00d69",
   "metadata": {},
   "outputs": [],
   "source": [
    "exp_NSL.run_mean(model_params_mean, if_plot=True)"
   ]
  },
  {
   "cell_type": "code",
   "execution_count": null,
   "id": "679b955f",
   "metadata": {},
   "outputs": [],
   "source": [
    "exp_NSL.run_var(model_params_var, if_plot=True)"
   ]
  },
  {
   "cell_type": "code",
   "execution_count": null,
   "id": "df4db38d",
   "metadata": {},
   "outputs": [],
   "source": [
    "exp_IoT.run_noFS(model_params_noFS, if_plot=True)"
   ]
  },
  {
   "cell_type": "code",
   "execution_count": null,
   "id": "2fdb6007",
   "metadata": {},
   "outputs": [],
   "source": [
    "exp_IoT.run_hybrid(model_params_hybrid, if_plot=True)"
   ]
  },
  {
   "cell_type": "code",
   "execution_count": null,
   "id": "acb33703",
   "metadata": {},
   "outputs": [],
   "source": [
    "exp_IoT.run_mean(model_params_mean, if_plot=True)"
   ]
  },
  {
   "cell_type": "code",
   "execution_count": null,
   "id": "6d3082df",
   "metadata": {},
   "outputs": [],
   "source": [
    "exp_IoT.run_var(model_params_var, if_plot=True)"
   ]
  },
  {
   "cell_type": "code",
   "execution_count": null,
   "id": "474698fb",
   "metadata": {},
   "outputs": [],
   "source": [
    "from concurrent.futures import ProcessPoolExecutor\n",
    "from IPython.display import clear_output\n",
    "from sklearn.metrics import f1_score\n",
    "from multiprocessing import Pool\n",
    "import itertools\n",
    "\n",
    "# パラメータの範囲を設定\n",
    "c_values = [0.01, 0.02, 0.03, 0.04, 0.05, 0.1, 0.2, 0.3, 0.4, 0.5]\n",
    "n_estimators_values = [100, 500, 1000]\n",
    "max_features_values = [0.1, 0.2, 0.3, 0.4, 0.5, 0.6, 0.7, 0.8, 0.9, 1.0]\n",
    "max_samples_values = [100, 500, 1000, 5000]\n",
    "\n",
    "best_accuracy = 0\n",
    "best_f1 = 0\n",
    "best_params = {}\n",
    "\n",
    "# 全体のループ数を計算\n",
    "total_loops = len(c_values) * len(n_estimators_values) * len(max_features_values) * len(max_samples_values)\n",
    "current_loop = 0\n",
    "\n",
    "# モデルを学習し、スコアを計算する関数\n",
    "def train_and_score(params):\n",
    "    c, n_estimators, max_features, max_samples = params\n",
    "    model_params_noFS = {\n",
    "        'k': 500,\n",
    "        'c_attack': c,\n",
    "        'c_normal': c,\n",
    "        'n_estimators': n_estimators,\n",
    "        'max_features': max_features,\n",
    "        'max_samples': max_samples, \n",
    "        'if_sampling' : False,\n",
    "    }\n",
    "\n",
    "    # モデルを学習\n",
    "    exp_UNSW.run_noFS(model_params_noFS, if_plot=False)\n",
    "\n",
    "    # スコアを計算\n",
    "    accuracy = exp_UNSW.accuracy\n",
    "    f1 = exp_UNSW.f1\n",
    "\n",
    "    return accuracy, f1, model_params_noFS\n",
    "\n",
    "# パラメータの組み合わせを生成\n",
    "params = list(itertools.product(c_values, n_estimators_values, max_features_values, max_samples_values))\n",
    "\n",
    "# プールを作成し、各パラメータの組み合わせについて関数を並列に実行\n",
    "with ProcessPoolExecutor() as executor:\n",
    "    results = list(executor.map(train_and_score, params))\n",
    "\n",
    "# 結果を処理\n",
    "for accuracy, f1, model_params_noFS in results:\n",
    "    # 最良のスコアを更新\n",
    "    if accuracy > best_accuracy:\n",
    "        best_accuracy = accuracy\n",
    "        best_params_accuracy = model_params_noFS\n",
    "\n",
    "    if f1 > best_f1:\n",
    "        best_f1 = f1\n",
    "        best_params_f1 = model_params_noFS\n",
    "\n",
    "    # 現在のループ数を更新\n",
    "    current_loop += 1\n",
    "\n",
    "    # 進行状況を表示\n",
    "    clear_output(wait=True)\n",
    "    print(f\"Progress: {current_loop / total_loops * 100:.2f}%\")\n",
    "\n",
    "# 最良のパラメータを表示\n",
    "print(\"Best accuracy:\", best_accuracy)\n",
    "print(\"Best parameters:\", best_params)\n",
    "print(\"Best f1:\", best_f1)\n",
    "print(\"Best parameters:\", best_params_f1)"
   ]
  }
 ],
 "metadata": {
  "jupytext": {
   "cell_metadata_filter": "-all",
   "main_language": "python",
   "notebook_metadata_filter": "-all"
  },
  "kernelspec": {
   "display_name": "Python 3 (ipykernel)",
   "language": "python",
   "name": "python3"
  },
  "language_info": {
   "codemirror_mode": {
    "name": "ipython",
    "version": 3
   },
   "file_extension": ".py",
   "mimetype": "text/x-python",
   "name": "python",
   "nbconvert_exporter": "python",
   "pygments_lexer": "ipython3",
   "version": "3.10.4"
  }
 },
 "nbformat": 4,
 "nbformat_minor": 5
}
