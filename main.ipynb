{
 "cells": [
  {
   "cell_type": "code",
   "execution_count": null,
   "id": "d1fd5337",
   "metadata": {},
   "outputs": [],
   "source": [
    "from dataset_UNSW_NB15 import Dataset_UNSW_NB15\n",
    "from dataset_NSL_KDD import Dataset_NSL_KDD\n",
    "from dataset_IoT_NID import Dataset_IoT_NID\n",
    "from experiment import Experiment\n",
    "import pickle\n"
   ]
  },
  {
   "cell_type": "code",
   "execution_count": null,
   "id": "cf8d9a8b",
   "metadata": {},
   "outputs": [],
   "source": [
    "save_dataset = False\n",
    "if save_dataset == True:\n",
    "    # データセットの取得\n",
    "    dataset_UNSW_NB15 = Dataset_UNSW_NB15().get_data()\n",
    "    dataset_NSL_KDD = Dataset_NSL_KDD().get_data()\n",
    "    dataset_IoT_NID = Dataset_IoT_NID().get_data()\n",
    "\n",
    "    # データセットをpickle形式で保存\n",
    "    with open('pickles/dataset_UNSW_NB15.pkl', 'wb') as f:\n",
    "        pickle.dump(dataset_UNSW_NB15, f)\n",
    "    with open('pickles/dataset_NSL_KDD.pkl', 'wb') as f:\n",
    "        pickle.dump(dataset_NSL_KDD, f)\n",
    "    with open('pickles/dataset_IoT_NID.pkl', 'wb') as f:\n",
    "        pickle.dump(dataset_IoT_NID, f)\n",
    "\n",
    "# データセットをpickle形式で読み込み\n",
    "with open ('pickles/dataset_UNSW_NB15.pkl', 'rb') as f:\n",
    "    dataset_UNSW_NB15 = pickle.load(f)\n",
    "with open ('pickles/dataset_NSL_KDD.pkl', 'rb') as f:\n",
    "    dataset_NSL_KDD = pickle.load(f)\n",
    "with open ('pickles/dataset_IoT_NID.pkl', 'rb') as f:\n",
    "    dataset_IoT_NID = pickle.load(f)\n",
    "\n",
    "# モデルの生成\n",
    "exp_UNSW = Experiment(dataset_UNSW_NB15)\n",
    "exp_NSL = Experiment(dataset_NSL_KDD)\n",
    "exp_IoT = Experiment(dataset_IoT_NID)\n",
    "\n",
    "# パラメータの設定\n",
    "model_params_noFS = {\n",
    "    'k': 500,\n",
    "    'c_attack': 0.1,\n",
    "    'c_normal': 0.1,\n",
    "    'n_estimators': 100,\n",
    "    'max_features': 2,\n",
    "}\n",
    "\n",
    "model_params_mean = {\n",
    "    'k': 500,\n",
    "    'n_ohe': 10,\n",
    "    'n_num': 10,\n",
    "    'c_attack': 0.1,\n",
    "    'c_normal': 0.1,\n",
    "    'n_estimators': 100,\n",
    "    'max_features': 2,\n",
    "}\n",
    "\n",
    "model_params_hybrid = {\n",
    "    'k': 500,\n",
    "    'n_fi': 10,\n",
    "    'n_pca': 10,\n",
    "    'c_attack': 0.1,\n",
    "    'c_normal': 0.1,\n",
    "    'n_estimators': 100,\n",
    "    'max_features': 2,\n",
    "}\n",
    "\n",
    "model_params_var = {\n",
    "    'k': 500,\n",
    "    'n_ohe': 10,\n",
    "    'n_num': 10,\n",
    "    'c_attack': 0.1,\n",
    "    'c_normal': 0.1,\n",
    "    'n_estimators': 100,\n",
    "    'max_features': 2,\n",
    "\n",
    "}"
   ]
  },
  {
   "cell_type": "code",
   "execution_count": null,
   "id": "36d70a83",
   "metadata": {},
   "outputs": [],
   "source": [
    "exp_UNSW.run_noFS(k=500, c_attack=0.1, c_normal=0.1)"
   ]
  },
  {
   "cell_type": "code",
   "execution_count": null,
   "id": "8c9f209e",
   "metadata": {},
   "outputs": [],
   "source": [
    "exp_UNSW.run_hybrid(k=500, n_fi=10, n_pca=1, c_attack=0.1, c_normal=0.1)"
   ]
  },
  {
   "cell_type": "code",
   "execution_count": null,
   "id": "5d04cec0",
   "metadata": {},
   "outputs": [],
   "source": [
    "exp_UNSW.run_mean(k=500, n_ohe=10, n_num=10, c_attack=0.095, c_normal=0.1)"
   ]
  },
  {
   "cell_type": "code",
   "execution_count": null,
   "id": "f5ca60f8",
   "metadata": {},
   "outputs": [],
   "source": [
    "exp_UNSW.run_var(k=500, n_ohe=10, n_num=10, c_attack=0.1, c_normal=0.1)"
   ]
  },
  {
   "cell_type": "code",
   "execution_count": null,
   "id": "d9126b72",
   "metadata": {},
   "outputs": [],
   "source": [
    "exp_NSL.run_noFS(k=500, c_attack=0.1, c_normal=0.1)"
   ]
  },
  {
   "cell_type": "code",
   "execution_count": null,
   "id": "c3aad88c",
   "metadata": {},
   "outputs": [],
   "source": [
    "exp_NSL.run_hybrid(k=500, n_fi=10, n_pca=1, c_attack=0.1, c_normal=0.1)"
   ]
  },
  {
   "cell_type": "code",
   "execution_count": null,
   "id": "8cb00d69",
   "metadata": {},
   "outputs": [],
   "source": [
    "exp_NSL.run_mean(k=500, n_ohe=10, n_num=10, c_attack=0.1, c_normal=0.1)"
   ]
  },
  {
   "cell_type": "code",
   "execution_count": null,
   "id": "679b955f",
   "metadata": {},
   "outputs": [],
   "source": [
    "exp_NSL.run_var(k=500, n_ohe=10, n_num=10, c_attack=0.1, c_normal=0.1)"
   ]
  },
  {
   "cell_type": "code",
   "execution_count": null,
   "id": "df4db38d",
   "metadata": {},
   "outputs": [],
   "source": [
    "exp_IoT.run_noFS(k=500, c_attack=0.1, c_normal=0.1)"
   ]
  },
  {
   "cell_type": "code",
   "execution_count": null,
   "id": "2fdb6007",
   "metadata": {},
   "outputs": [],
   "source": [
    "exp_IoT.run_hybrid(k=500, n_fi=1, n_pca=1, c_attack=0.1, c_normal=0.1)"
   ]
  },
  {
   "cell_type": "code",
   "execution_count": null,
   "id": "acb33703",
   "metadata": {},
   "outputs": [],
   "source": [
    "exp_IoT.run_mean(k=500, n_ohe=10, n_num=10, c_attack=0.1, c_normal=0.1)"
   ]
  },
  {
   "cell_type": "code",
   "execution_count": null,
   "id": "6d3082df",
   "metadata": {},
   "outputs": [],
   "source": [
    "exp_IoT.run_var(k=500, n_ohe=10, n_num=10, c_attack=0.1, c_normal=0.1)"
   ]
  }
 ],
 "metadata": {
  "jupytext": {
   "cell_metadata_filter": "-all",
   "main_language": "python",
   "notebook_metadata_filter": "-all"
  },
  "kernelspec": {
   "display_name": "Python 3 (ipykernel)",
   "language": "python",
   "name": "python3"
  },
  "language_info": {
   "codemirror_mode": {
    "name": "ipython",
    "version": 3
   },
   "file_extension": ".py",
   "mimetype": "text/x-python",
   "name": "python",
   "nbconvert_exporter": "python",
   "pygments_lexer": "ipython3",
   "version": "3.10.4"
  }
 },
 "nbformat": 4,
 "nbformat_minor": 5
}
