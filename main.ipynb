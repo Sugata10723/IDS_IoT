{
 "cells": [
  {
   "cell_type": "code",
   "execution_count": 1,
   "id": "d1fd5337",
   "metadata": {},
   "outputs": [],
   "source": [
    "from dataset_UNSW_NB15 import Dataset_UNSW_NB15\n",
    "from dataset_UNSW_NB15_1 import Dataset_UNSW_NB15_1\n",
    "from dataset_NSL_KDD import Dataset_NSL_KDD\n",
    "from dataset_IoT_Network_Intrusion_Dataset import Dataset_IoT_Network_Intrusion_Dataset\n",
    "from experiment import Experiment\n",
    "import matplotlib.pyplot as plt\n"
   ]
  },
  {
   "cell_type": "code",
   "execution_count": null,
   "id": "ba869cf1",
   "metadata": {},
   "outputs": [],
   "source": [
    "dataset = Dataset_UNSW_NB15(10000)\n",
    "X_train, X_test, y_train, y_test, config = dataset.get_data()\n",
    "exp = Experiment(X_train, X_test, y_train, y_test, config)\n",
    "exp.run(k=500, n_fi=50, n_pca=1)"
   ]
  },
  {
   "cell_type": "code",
   "execution_count": 2,
   "id": "62147677",
   "metadata": {},
   "outputs": [
    {
     "name": "stderr",
     "output_type": "stream",
     "text": [
      "/Users/ham/codes/IDS_IoT/dataset_UNSW_NB15_1.py:64: DtypeWarning: Columns (1,3,47) have mixed types. Specify dtype option on import or set low_memory=False.\n",
      "  self.data = pd.read_csv(self.DATA_FILE_PATH)\n"
     ]
    },
    {
     "name": "stdout",
     "output_type": "stream",
     "text": [
      "Invalid dsport: 0\n"
     ]
    }
   ],
   "source": [
    "dataset = Dataset_UNSW_NB15_1(10000)\n",
    "X_train, X_test, y_train, y_test, config = dataset.get_data()\n",
    "exp = Experiment(X_train, X_test, y_train, y_test, config)\n",
    "exp.run(k=500, n_fi=1, n_pca=90)"
   ]
  },
  {
   "cell_type": "code",
   "execution_count": null,
   "id": "675589d8",
   "metadata": {},
   "outputs": [],
   "source": [
    "dataset = Dataset_NSL_KDD(10000)\n",
    "X_train, X_test, y_train, y_test, config = dataset.get_data()\n",
    "exp = Experiment(X_train, X_test, y_train, y_test, config)\n",
    "exp.run(k=500, n_fi=1, n_pca=90)"
   ]
  },
  {
   "cell_type": "code",
   "execution_count": null,
   "id": "9dce6d91",
   "metadata": {},
   "outputs": [],
   "source": [
    "dataset = Dataset_IoT_Network_Intrusion_Dataset(10000)\n",
    "X_train, X_test, y_train, y_test, config = dataset.get_data()\n",
    "exp = Experiment(X_train, X_test, y_train, y_test, config)\n",
    "exp.run(k=500, n_fi=1, n_pca=90)"
   ]
  }
 ],
 "metadata": {
  "jupytext": {
   "cell_metadata_filter": "-all",
   "main_language": "python",
   "notebook_metadata_filter": "-all"
  },
  "kernelspec": {
   "display_name": "Python 3 (ipykernel)",
   "language": "python",
   "name": "python3"
  },
  "language_info": {
   "codemirror_mode": {
    "name": "ipython",
    "version": 3
   },
   "file_extension": ".py",
   "mimetype": "text/x-python",
   "name": "python",
   "nbconvert_exporter": "python",
   "pygments_lexer": "ipython3",
   "version": "3.10.4"
  }
 },
 "nbformat": 4,
 "nbformat_minor": 5
}
