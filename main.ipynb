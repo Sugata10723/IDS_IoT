{
 "cells": [
  {
   "cell_type": "code",
   "execution_count": 1,
   "id": "d1fd5337",
   "metadata": {},
   "outputs": [],
   "source": [
    "from dataset_UNSW_NB15 import Dataset_UNSW_NB15\n",
    "from dataset_UNSW_NB15_1 import Dataset_UNSW_NB15_1\n",
    "from dataset_NSL_KDD import Dataset_NSL_KDD\n",
    "from dataset_IoT_NID import Dataset_IoT_NID\n",
    "from experiment import Experiment\n",
    "import matplotlib.pyplot as plt\n",
    "import pandas as pd\n",
    "\n",
    "pd.set_option('display.max_columns', None)\n",
    "pd.set_option('display.precision', 2)   \n"
   ]
  },
  {
   "cell_type": "code",
   "execution_count": 3,
   "id": "0cf717d0",
   "metadata": {},
   "outputs": [
    {
     "name": "stdout",
     "output_type": "stream",
     "text": [
      "X_ohe shape is: 157\n",
      "X_num shape is: 39\n"
     ]
    },
    {
     "ename": "",
     "evalue": "",
     "output_type": "error",
     "traceback": [
      "\u001b[1;31mThe Kernel crashed while executing code in the the current cell or a previous cell. Please review the code in the cell(s) to identify a possible cause of the failure. Click <a href='https://aka.ms/vscodeJupyterKernelCrash'>here</a> for more info. View Jupyter <a href='command:jupyter.viewOutput'>log</a> for further details."
     ]
    }
   ],
   "source": [
    "dataset = Dataset_UNSW_NB15(50000)\n",
    "X_train, X_test, y_train, y_test, config = dataset.get_data()\n",
    "exp = Experiment(X_train, X_test, y_train, y_test, config)\n",
    "exp.run_noFS(k=500)\n",
    "#exp.run_pca(k=5000000, n_pca=30)\n",
    "#exp.run_fi(k=5000000, n_fi=40)\n",
    "#exp.run_hybrid(k=5000000000, n_fi=20, n_pca=20)\n",
    "#exp.run_var(k=50000000000)"
   ]
  },
  {
   "cell_type": "code",
   "execution_count": null,
   "id": "675589d8",
   "metadata": {},
   "outputs": [],
   "source": [
    "dataset = Dataset_NSL_KDD(1000000000)\n",
    "X_train, X_test, y_train, y_test, config = dataset.get_data()\n",
    "exp = Experiment(X_train, X_test, y_train, y_test, config)\n",
    "exp.run_noFS(k=5000000000)\n",
    "exp.run_pca(k=5000000000, n_pca=30)\n",
    "exp.run_fi(k=5000000000, n_fi=40)\n",
    "exp.run_hybrid(k=5000000000, n_fi=20, n_pca=20)\n",
    "exp.run_var(k=50000000000)"
   ]
  },
  {
   "cell_type": "code",
   "execution_count": null,
   "id": "9dce6d91",
   "metadata": {},
   "outputs": [],
   "source": [
    "dataset = Dataset_IoT_NID()\n",
    "X_train, X_test, y_train, y_test, config = dataset.get_data()\n",
    "exp = Experiment(X_train, X_test, y_train, y_test, config)\n",
    "exp.run_noFS(k=5000000000)\n",
    "#exp.run_pca(k=5000000000, n_pca=30)\n",
    "#exp.run_fi(k=5000000000, n_fi=40)\n",
    "#exp.run_hybrid(k=5000000000, n_fi=20, n_pca=20)\n",
    "#exp.run_var(k=500000000)"
   ]
  },
  {
   "cell_type": "code",
   "execution_count": null,
   "id": "e2936f96",
   "metadata": {},
   "outputs": [],
   "source": [
    "dataset = Dataset_UNSW_NB15(1000000000)\n",
    "X_train, X_test, y_train, y_test, config = dataset.get_data()\n",
    "exp = Experiment(X_train, X_test, y_train, y_test, config)\n",
    "results = []\n",
    "for i in range(10, 200, 10):\n",
    "    exp.run_fi(k=5000000000, n_fi=i)\n",
    "    results.append((exp.accuracy, exp.f1))  # タプルを作成\n",
    "\n",
    "# accuracyとf1を別々にプロット\n",
    "accuracy_results = [result[0] for result in results]\n",
    "f1_results = [result[1] for result in results]\n",
    "\n",
    "plt.plot(range(10, 200, 10), accuracy_results, label='accuracy')\n",
    "plt.plot(range(10, 200, 10), f1_results, label='f1')\n",
    "plt.legend()\n",
    "plt.show()"
   ]
  }
 ],
 "metadata": {
  "jupytext": {
   "cell_metadata_filter": "-all",
   "main_language": "python",
   "notebook_metadata_filter": "-all"
  },
  "kernelspec": {
   "display_name": "Python 3 (ipykernel)",
   "language": "python",
   "name": "python3"
  },
  "language_info": {
   "codemirror_mode": {
    "name": "ipython",
    "version": 3
   },
   "file_extension": ".py",
   "mimetype": "text/x-python",
   "name": "python",
   "nbconvert_exporter": "python",
   "pygments_lexer": "ipython3",
   "version": "3.10.4"
  }
 },
 "nbformat": 4,
 "nbformat_minor": 5
}
