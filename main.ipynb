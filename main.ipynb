{
 "cells": [
  {
   "cell_type": "code",
   "execution_count": null,
   "id": "d1fd5337",
   "metadata": {},
   "outputs": [],
   "source": [
    "from dataset_UNSW_NB15 import Dataset_UNSW_NB15\n",
    "from dataset_UNSW_NB15_1 import Dataset_UNSW_NB15_1\n",
    "from dataset_NSL_KDD import Dataset_NSL_KDD\n",
    "from dataset_IoT_NID import Dataset_IoT_NID\n",
    "from experiment import Experiment"
   ]
  },
  {
   "cell_type": "code",
   "execution_count": null,
   "id": "0cf717d0",
   "metadata": {},
   "outputs": [],
   "source": [
    "dataset = Dataset_UNSW_NB15()\n",
    "X_train, X_test, y_train, y_test, config = dataset.get_data()\n",
    "exp = Experiment(X_train, X_test, y_train, y_test, config)"
   ]
  },
  {
   "cell_type": "code",
   "execution_count": null,
   "id": "8c9f209e",
   "metadata": {},
   "outputs": [],
   "source": [
    "exp.run_hybrid(k=500, n_fi=20, n_pca=20, c_attack=0.1, c_normal=0.2)"
   ]
  },
  {
   "cell_type": "code",
   "execution_count": null,
   "id": "5d04cec0",
   "metadata": {},
   "outputs": [],
   "source": [
    "exp.run_mean(k=500,n_fi=20, n_mean=20, c_attack=0.2, c_normal=0.3)"
   ]
  },
  {
   "cell_type": "code",
   "execution_count": null,
   "id": "f5ca60f8",
   "metadata": {},
   "outputs": [],
   "source": [
    "exp.run_var(k=500, c_attack=0.2, c_normal=0.45)"
   ]
  },
  {
   "cell_type": "code",
   "execution_count": null,
   "id": "675589d8",
   "metadata": {},
   "outputs": [],
   "source": [
    "dataset = Dataset_NSL_KDD()\n",
    "X_train, X_test, y_train, y_test, config = dataset.get_data()\n",
    "exp = Experiment(X_train, X_test, y_train, y_test, config)"
   ]
  },
  {
   "cell_type": "code",
   "execution_count": null,
   "id": "c3aad88c",
   "metadata": {},
   "outputs": [],
   "source": [
    "exp.run_hybrid(k=500, n_fi=20, n_pca=20, c_attack=0.1, c_normal=0.2)"
   ]
  },
  {
   "cell_type": "code",
   "execution_count": null,
   "id": "8cb00d69",
   "metadata": {},
   "outputs": [],
   "source": [
    "exp.run_mean(k=500,n_fi=20, n_mean=20, c_attack=0.1, c_normal=0.01)"
   ]
  },
  {
   "cell_type": "code",
   "execution_count": null,
   "id": "679b955f",
   "metadata": {},
   "outputs": [],
   "source": [
    "exp.run_var(k=500, c_attack=0.1, c_normal=0.1)"
   ]
  },
  {
   "cell_type": "code",
   "execution_count": null,
   "id": "9dce6d91",
   "metadata": {},
   "outputs": [],
   "source": [
    "dataset = Dataset_IoT_NID()\n",
    "X_train, X_test, y_train, y_test, config = dataset.get_data()\n",
    "exp = Experiment(X_train, X_test, y_train, y_test, config)"
   ]
  },
  {
   "cell_type": "code",
   "execution_count": null,
   "id": "2fdb6007",
   "metadata": {},
   "outputs": [],
   "source": [
    "exp.run_hybrid(k=500, n_fi=20, n_pca=20, c_attack=0.1, c_normal=0.2)"
   ]
  },
  {
   "cell_type": "code",
   "execution_count": null,
   "id": "acb33703",
   "metadata": {},
   "outputs": [],
   "source": [
    "exp.run_mean(k=500,n_fi=20, n_mean=20, c_attack=0.1, c_normal=0.01)"
   ]
  },
  {
   "cell_type": "code",
   "execution_count": null,
   "id": "6d3082df",
   "metadata": {},
   "outputs": [],
   "source": [
    "exp.run_var(k=500, c_attack=0.1, c_normal=0.1)"
   ]
  },
  {
   "cell_type": "code",
   "execution_count": null,
   "id": "67199d11",
   "metadata": {},
   "outputs": [],
   "source": [
    "# 10回実験を行って、その箱ひげ図を描写\n",
    "import matplotlib.pyplot as plt\n",
    "\n",
    "# 結果を保存するためのリスト\n",
    "accuracy_results = []\n",
    "f1_score_results = []\n",
    "dataset = Dataset_UNSW_NB15()\n",
    "X_train, X_test, y_train, y_test, config = dataset.get_data()\n",
    "exp = Experiment(X_train, X_test, y_train, y_test, config)\n",
    "\n",
    "# 10回の実験を行う\n",
    "for i in range(10):\n",
    "    exp.run_var(k=500, c_attack=0.2, c_normal=0.1)\n",
    "    accuracy_results.append(exp.accuracy)\n",
    "    f1_score_results.append(exp.f1_score)\n",
    "\n",
    "# 箱ひげ図を描画\n",
    "plt.figure(figsize=(12, 6))\n",
    "\n",
    "plt.subplot(1, 2, 1)\n",
    "plt.boxplot(accuracy_results)\n",
    "plt.title('Accuracy')\n",
    "\n",
    "plt.subplot(1, 2, 2)\n",
    "plt.boxplot(f1_score_results)\n",
    "plt.title('F1 Score')\n",
    "\n",
    "plt.show()"
   ]
  }
 ],
 "metadata": {
  "jupytext": {
   "cell_metadata_filter": "-all",
   "main_language": "python",
   "notebook_metadata_filter": "-all"
  },
  "kernelspec": {
   "display_name": "Python 3 (ipykernel)",
   "language": "python",
   "name": "python3"
  },
  "language_info": {
   "codemirror_mode": {
    "name": "ipython",
    "version": 3
   },
   "file_extension": ".py",
   "mimetype": "text/x-python",
   "name": "python",
   "nbconvert_exporter": "python",
   "pygments_lexer": "ipython3",
   "version": "3.10.4"
  }
 },
 "nbformat": 4,
 "nbformat_minor": 5
}
